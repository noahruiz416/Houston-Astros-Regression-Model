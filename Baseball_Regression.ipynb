{
  "nbformat": 4,
  "nbformat_minor": 0,
  "metadata": {
    "colab": {
      "name": "Baseball-Regression.ipynb",
      "provenance": [],
      "collapsed_sections": [],
      "authorship_tag": "ABX9TyPonDLIzXlc+g9BZS091QGA",
      "include_colab_link": true
    },
    "kernelspec": {
      "name": "python3",
      "display_name": "Python 3"
    },
    "language_info": {
      "name": "python"
    }
  },
  "cells": [
    {
      "cell_type": "markdown",
      "metadata": {
        "id": "view-in-github",
        "colab_type": "text"
      },
      "source": [
        "<a href=\"https://colab.research.google.com/github/noahruiz416/Houston-Astros-Regression-Model/blob/main/Baseball_Regression.ipynb\" target=\"_parent\"><img src=\"https://colab.research.google.com/assets/colab-badge.svg\" alt=\"Open In Colab\"/></a>"
      ]
    },
    {
      "cell_type": "markdown",
      "source": [
        "## This file builds off the insights gained from the EDA file and iterates through multiple regression models, until the 'best fit' model is found. STP 429 Multivariable Regression Project."
      ],
      "metadata": {
        "id": "7ytrXl60QeGZ"
      }
    },
    {
      "cell_type": "code",
      "execution_count": 5,
      "metadata": {
        "id": "m0PI-VAfQO_s",
        "colab": {
          "base_uri": "https://localhost:8080/"
        },
        "outputId": "430cbf95-2f2c-4643-ad69-381c328dbd43"
      },
      "outputs": [
        {
          "output_type": "stream",
          "name": "stdout",
          "text": [
            "Mounted at /content/gdrive\n"
          ]
        }
      ],
      "source": [
        "import scipy as sp\n",
        "import statsmodels.api as sm \n",
        "import pandas as pd \n",
        "from google.colab import drive \n",
        "drive.mount('/content/gdrive')"
      ]
    },
    {
      "cell_type": "code",
      "source": [
        "df = pd.read_csv(\"gdrive/My Drive/astros_data.csv\")"
      ],
      "metadata": {
        "id": "xmfkIhiKQRc0"
      },
      "execution_count": 6,
      "outputs": []
    },
    {
      "cell_type": "code",
      "source": [
        "## first I created various squared and interaction terms based on various hypotheses regarding baseball, and off any curvature found in the EDA \n",
        "## further notes on my methods can be found in the full report \n",
        "df['runs_RBI'] = df['R'] * df['RBI']\n",
        "df['runs_hits'] = df ['R'] * df ['H']\n",
        "df['losses_hits'] = df['L'] * df['H']\n",
        "df['errors_hits'] = df['E'] * df['H']\n",
        "df['runs_errors'] = df ['R'] * df['E']\n",
        "df['home_sq'] = df['HR'] * df['HR']\n",
        "df['error_sq'] = df['E'] * df['E']\n",
        "df['rbi_sq'] = df['RBI'] * df['RBI']"
      ],
      "metadata": {
        "id": "Bn-mHq2iS9pz"
      },
      "execution_count": 7,
      "outputs": []
    },
    {
      "cell_type": "code",
      "source": [
        "##First model is created from 1979 - 2000\n",
        "df_1979 = df[(df['Year'] >= 1979) & (df['Year'] <= 2000)]\n",
        "df_2001 = df[df['Year'] >= 2001]"
      ],
      "metadata": {
        "id": "pBtT5BxkT_qr"
      },
      "execution_count": 23,
      "outputs": []
    },
    {
      "cell_type": "code",
      "source": [
        "##Modeling 1979 - 2000, iterative approach \n",
        "\n",
        "#first order model with 5 terms\n",
        "x = df_1979[['RBI', 'H', 'L', 'Finish', 'Doubles']]\n",
        "y = df_1979[['W']]\n",
        "x = sm.add_constant(x)\n",
        "\n",
        "model = sm.OLS(y, x).fit()\n",
        "model_summary = model.summary()\n",
        "print(model_summary)"
      ],
      "metadata": {
        "colab": {
          "base_uri": "https://localhost:8080/"
        },
        "id": "xjf5iJagUZ1K",
        "outputId": "6c2db5a5-49c1-4672-8491-e15745ba11fc"
      },
      "execution_count": 31,
      "outputs": [
        {
          "output_type": "stream",
          "name": "stdout",
          "text": [
            "                            OLS Regression Results                            \n",
            "==============================================================================\n",
            "Dep. Variable:                      W   R-squared:                       0.836\n",
            "Model:                            OLS   Adj. R-squared:                  0.778\n",
            "Method:                 Least Squares   F-statistic:                     14.31\n",
            "Date:                Thu, 07 Apr 2022   Prob (F-statistic):           4.44e-05\n",
            "Time:                        14:07:16   Log-Likelihood:                -56.174\n",
            "No. Observations:                  20   AIC:                             124.3\n",
            "Df Residuals:                      14   BIC:                             130.3\n",
            "Df Model:                           5                                         \n",
            "Covariance Type:            nonrobust                                         \n",
            "==============================================================================\n",
            "                 coef    std err          t      P>|t|      [0.025      0.975]\n",
            "------------------------------------------------------------------------------\n",
            "const         21.2855     15.921      1.337      0.203     -12.862      55.433\n",
            "RBI           -0.0630      0.024     -2.668      0.018      -0.114      -0.012\n",
            "H              0.0935      0.021      4.450      0.001       0.048       0.139\n",
            "L             -0.5606      0.186     -3.017      0.009      -0.959      -0.162\n",
            "Finish        -0.8004      1.331     -0.602      0.557      -3.654       2.053\n",
            "Doubles        0.0652      0.058      1.122      0.281      -0.059       0.190\n",
            "==============================================================================\n",
            "Omnibus:                        1.787   Durbin-Watson:                   1.780\n",
            "Prob(Omnibus):                  0.409   Jarque-Bera (JB):                1.516\n",
            "Skew:                           0.598   Prob(JB):                        0.469\n",
            "Kurtosis:                       2.377   Cond. No.                     2.31e+04\n",
            "==============================================================================\n",
            "\n",
            "Warnings:\n",
            "[1] Standard Errors assume that the covariance matrix of the errors is correctly specified.\n",
            "[2] The condition number is large, 2.31e+04. This might indicate that there are\n",
            "strong multicollinearity or other numerical problems.\n"
          ]
        },
        {
          "output_type": "stream",
          "name": "stderr",
          "text": [
            "/usr/local/lib/python3.7/dist-packages/statsmodels/tsa/tsatools.py:117: FutureWarning: In a future version of pandas all arguments of concat except for the argument 'objs' will be keyword-only\n",
            "  x = pd.concat(x[::order], 1)\n"
          ]
        }
      ]
    },
    {
      "cell_type": "code",
      "source": [
        "#taking out finish & doubles due to lack of significance\n",
        "x = df_1979[['RBI', 'H', 'L']]\n",
        "y = df_1979[['W']]\n",
        "x = sm.add_constant(x)\n",
        "\n",
        "model = sm.OLS(y, x).fit()\n",
        "model_summary = model.summary()\n",
        "print(model_summary)"
      ],
      "metadata": {
        "colab": {
          "base_uri": "https://localhost:8080/"
        },
        "id": "qe9PSRUeU2V3",
        "outputId": "7f783e97-9d6c-44bd-ba73-e2bbe7be9332"
      },
      "execution_count": 32,
      "outputs": [
        {
          "output_type": "stream",
          "name": "stdout",
          "text": [
            "                            OLS Regression Results                            \n",
            "==============================================================================\n",
            "Dep. Variable:                      W   R-squared:                       0.818\n",
            "Model:                            OLS   Adj. R-squared:                  0.784\n",
            "Method:                 Least Squares   F-statistic:                     23.95\n",
            "Date:                Thu, 07 Apr 2022   Prob (F-statistic):           3.70e-06\n",
            "Time:                        14:07:21   Log-Likelihood:                -57.244\n",
            "No. Observations:                  20   AIC:                             122.5\n",
            "Df Residuals:                      16   BIC:                             126.5\n",
            "Df Model:                           3                                         \n",
            "Covariance Type:            nonrobust                                         \n",
            "==============================================================================\n",
            "                 coef    std err          t      P>|t|      [0.025      0.975]\n",
            "------------------------------------------------------------------------------\n",
            "const         20.1209     14.575      1.381      0.186     -10.776      51.018\n",
            "RBI           -0.0482      0.019     -2.597      0.019      -0.088      -0.009\n",
            "H              0.1037      0.018      5.899      0.000       0.066       0.141\n",
            "L             -0.6663      0.107     -6.202      0.000      -0.894      -0.439\n",
            "==============================================================================\n",
            "Omnibus:                        0.665   Durbin-Watson:                   1.922\n",
            "Prob(Omnibus):                  0.717   Jarque-Bera (JB):                0.716\n",
            "Skew:                           0.301   Prob(JB):                        0.699\n",
            "Kurtosis:                       2.296   Cond. No.                     2.12e+04\n",
            "==============================================================================\n",
            "\n",
            "Warnings:\n",
            "[1] Standard Errors assume that the covariance matrix of the errors is correctly specified.\n",
            "[2] The condition number is large, 2.12e+04. This might indicate that there are\n",
            "strong multicollinearity or other numerical problems.\n"
          ]
        },
        {
          "output_type": "stream",
          "name": "stderr",
          "text": [
            "/usr/local/lib/python3.7/dist-packages/statsmodels/tsa/tsatools.py:117: FutureWarning: In a future version of pandas all arguments of concat except for the argument 'objs' will be keyword-only\n",
            "  x = pd.concat(x[::order], 1)\n"
          ]
        }
      ]
    },
    {
      "cell_type": "code",
      "source": [
        "#final model \n",
        "x = df_1979[['R', 'H', 'L', 'losses_hits']]\n",
        "y = df_1979[['W']]\n",
        "x = sm.add_constant(x)\n",
        "\n",
        "model = sm.OLS(y, x).fit()\n",
        "model_summary = model.summary()\n",
        "print(model_summary)"
      ],
      "metadata": {
        "colab": {
          "base_uri": "https://localhost:8080/"
        },
        "id": "EAJM527vU6PK",
        "outputId": "c83dbdfa-f928-43f0-a19b-27a2a60c5ec2"
      },
      "execution_count": 33,
      "outputs": [
        {
          "output_type": "stream",
          "name": "stdout",
          "text": [
            "                            OLS Regression Results                            \n",
            "==============================================================================\n",
            "Dep. Variable:                      W   R-squared:                       0.942\n",
            "Model:                            OLS   Adj. R-squared:                  0.926\n",
            "Method:                 Least Squares   F-statistic:                     60.74\n",
            "Date:                Thu, 07 Apr 2022   Prob (F-statistic):           4.37e-09\n",
            "Time:                        14:07:25   Log-Likelihood:                -45.826\n",
            "No. Observations:                  20   AIC:                             101.7\n",
            "Df Residuals:                      15   BIC:                             106.6\n",
            "Df Model:                           4                                         \n",
            "Covariance Type:            nonrobust                                         \n",
            "===============================================================================\n",
            "                  coef    std err          t      P>|t|      [0.025      0.975]\n",
            "-------------------------------------------------------------------------------\n",
            "const        -160.1694     32.720     -4.895      0.000    -229.910     -90.429\n",
            "R              -0.0100      0.013     -0.800      0.436      -0.037       0.017\n",
            "H               0.2228      0.023      9.590      0.000       0.173       0.272\n",
            "L               2.6846      0.591      4.539      0.000       1.424       3.945\n",
            "losses_hits    -0.0025      0.000     -5.706      0.000      -0.003      -0.002\n",
            "==============================================================================\n",
            "Omnibus:                        5.789   Durbin-Watson:                   2.238\n",
            "Prob(Omnibus):                  0.055   Jarque-Bera (JB):                3.370\n",
            "Skew:                          -0.841   Prob(JB):                        0.185\n",
            "Kurtosis:                       4.103   Cond. No.                     5.77e+06\n",
            "==============================================================================\n",
            "\n",
            "Warnings:\n",
            "[1] Standard Errors assume that the covariance matrix of the errors is correctly specified.\n",
            "[2] The condition number is large, 5.77e+06. This might indicate that there are\n",
            "strong multicollinearity or other numerical problems.\n"
          ]
        },
        {
          "output_type": "stream",
          "name": "stderr",
          "text": [
            "/usr/local/lib/python3.7/dist-packages/statsmodels/tsa/tsatools.py:117: FutureWarning: In a future version of pandas all arguments of concat except for the argument 'objs' will be keyword-only\n",
            "  x = pd.concat(x[::order], 1)\n"
          ]
        }
      ]
    },
    {
      "cell_type": "code",
      "source": [
        "#final model reduced\n",
        "x = df_1979[['H', 'L', 'losses_hits']]\n",
        "y = df_1979[['W']]\n",
        "x = sm.add_constant(x)\n",
        "\n",
        "model = sm.OLS(y, x).fit()\n",
        "model_summary = model.summary()\n",
        "print(model_summary)"
      ],
      "metadata": {
        "colab": {
          "base_uri": "https://localhost:8080/"
        },
        "id": "ws9FiWwDWNGn",
        "outputId": "f8b19f65-4382-4d47-90ff-8fea2733bd4a"
      },
      "execution_count": 34,
      "outputs": [
        {
          "output_type": "stream",
          "name": "stdout",
          "text": [
            "                            OLS Regression Results                            \n",
            "==============================================================================\n",
            "Dep. Variable:                      W   R-squared:                       0.939\n",
            "Model:                            OLS   Adj. R-squared:                  0.928\n",
            "Method:                 Least Squares   F-statistic:                     82.63\n",
            "Date:                Thu, 07 Apr 2022   Prob (F-statistic):           5.93e-10\n",
            "Time:                        14:07:28   Log-Likelihood:                -46.244\n",
            "No. Observations:                  20   AIC:                             100.5\n",
            "Df Residuals:                      16   BIC:                             104.5\n",
            "Df Model:                           3                                         \n",
            "Covariance Type:            nonrobust                                         \n",
            "===============================================================================\n",
            "                  coef    std err          t      P>|t|      [0.025      0.975]\n",
            "-------------------------------------------------------------------------------\n",
            "const        -170.2872     29.836     -5.708      0.000    -233.536    -107.039\n",
            "H               0.2251      0.023      9.871      0.000       0.177       0.273\n",
            "L               2.9393      0.493      5.965      0.000       1.895       3.984\n",
            "losses_hits    -0.0027      0.000     -7.234      0.000      -0.003      -0.002\n",
            "==============================================================================\n",
            "Omnibus:                        8.152   Durbin-Watson:                   2.053\n",
            "Prob(Omnibus):                  0.017   Jarque-Bera (JB):                5.490\n",
            "Skew:                          -1.055   Prob(JB):                       0.0643\n",
            "Kurtosis:                       4.462   Cond. No.                     5.32e+06\n",
            "==============================================================================\n",
            "\n",
            "Warnings:\n",
            "[1] Standard Errors assume that the covariance matrix of the errors is correctly specified.\n",
            "[2] The condition number is large, 5.32e+06. This might indicate that there are\n",
            "strong multicollinearity or other numerical problems.\n"
          ]
        },
        {
          "output_type": "stream",
          "name": "stderr",
          "text": [
            "/usr/local/lib/python3.7/dist-packages/statsmodels/tsa/tsatools.py:117: FutureWarning: In a future version of pandas all arguments of concat except for the argument 'objs' will be keyword-only\n",
            "  x = pd.concat(x[::order], 1)\n"
          ]
        }
      ]
    },
    {
      "cell_type": "code",
      "source": [
        "#final model reduced\n",
        "#suspicious losses, drop from model in next iteration\n",
        "x = df_2001[['R', 'L', 'Finish', 'RG', 'RBI']]\n",
        "y = df_2001[['W']]\n",
        "x = sm.add_constant(x)\n",
        "\n",
        "model = sm.OLS(y, x).fit()\n",
        "model_summary = model.summary()\n",
        "print(model_summary)"
      ],
      "metadata": {
        "colab": {
          "base_uri": "https://localhost:8080/"
        },
        "id": "NHOKMIk5WSuX",
        "outputId": "b080cef8-bbdb-4559-c194-350a78a17b7e"
      },
      "execution_count": 38,
      "outputs": [
        {
          "output_type": "stream",
          "name": "stdout",
          "text": [
            "                            OLS Regression Results                            \n",
            "==============================================================================\n",
            "Dep. Variable:                      W   R-squared:                       1.000\n",
            "Model:                            OLS   Adj. R-squared:                  1.000\n",
            "Method:                 Least Squares   F-statistic:                 3.391e+04\n",
            "Date:                Thu, 07 Apr 2022   Prob (F-statistic):           4.66e-28\n",
            "Time:                        14:08:25   Log-Likelihood:                 11.214\n",
            "No. Observations:                  20   AIC:                            -10.43\n",
            "Df Residuals:                      14   BIC:                            -4.454\n",
            "Df Model:                           5                                         \n",
            "Covariance Type:            nonrobust                                         \n",
            "==============================================================================\n",
            "                 coef    std err          t      P>|t|      [0.025      0.975]\n",
            "------------------------------------------------------------------------------\n",
            "const        159.5053      1.006    158.518      0.000     157.347     161.663\n",
            "R              0.1204      0.028      4.228      0.001       0.059       0.181\n",
            "L             -0.9890      0.008   -131.310      0.000      -1.005      -0.973\n",
            "Finish         0.0195      0.072      0.270      0.791      -0.135       0.174\n",
            "RG           -18.8681      4.612     -4.091      0.001     -28.759      -8.977\n",
            "RBI           -0.0019      0.006     -0.316      0.757      -0.015       0.011\n",
            "==============================================================================\n",
            "Omnibus:                       11.143   Durbin-Watson:                   2.353\n",
            "Prob(Omnibus):                  0.004   Jarque-Bera (JB):                8.599\n",
            "Skew:                          -1.362   Prob(JB):                       0.0136\n",
            "Kurtosis:                       4.702   Cond. No.                     1.28e+05\n",
            "==============================================================================\n",
            "\n",
            "Warnings:\n",
            "[1] Standard Errors assume that the covariance matrix of the errors is correctly specified.\n",
            "[2] The condition number is large, 1.28e+05. This might indicate that there are\n",
            "strong multicollinearity or other numerical problems.\n"
          ]
        },
        {
          "output_type": "stream",
          "name": "stderr",
          "text": [
            "/usr/local/lib/python3.7/dist-packages/statsmodels/tsa/tsatools.py:117: FutureWarning: In a future version of pandas all arguments of concat except for the argument 'objs' will be keyword-only\n",
            "  x = pd.concat(x[::order], 1)\n"
          ]
        }
      ]
    },
    {
      "cell_type": "code",
      "source": [
        "#iteration two with losses dropped\n",
        "x = df_2001[['R','Finish', 'RG', 'RBI']]\n",
        "y = df_2001[['W']]\n",
        "x = sm.add_constant(x)\n",
        "\n",
        "model = sm.OLS(y, x).fit()\n",
        "model_summary = model.summary()\n",
        "print(model_summary)"
      ],
      "metadata": {
        "colab": {
          "base_uri": "https://localhost:8080/"
        },
        "id": "Q_AULI-kWgg0",
        "outputId": "bc4172c6-b39f-462e-910c-0164348649e2"
      },
      "execution_count": 39,
      "outputs": [
        {
          "output_type": "stream",
          "name": "stdout",
          "text": [
            "                            OLS Regression Results                            \n",
            "==============================================================================\n",
            "Dep. Variable:                      W   R-squared:                       0.898\n",
            "Model:                            OLS   Adj. R-squared:                  0.871\n",
            "Method:                 Least Squares   F-statistic:                     33.10\n",
            "Date:                Thu, 07 Apr 2022   Prob (F-statistic):           2.79e-07\n",
            "Time:                        14:08:58   Log-Likelihood:                -59.955\n",
            "No. Observations:                  20   AIC:                             129.9\n",
            "Df Residuals:                      15   BIC:                             134.9\n",
            "Df Model:                           4                                         \n",
            "Covariance Type:            nonrobust                                         \n",
            "==============================================================================\n",
            "                 coef    std err          t      P>|t|      [0.025      0.975]\n",
            "------------------------------------------------------------------------------\n",
            "const         79.7704     27.214      2.931      0.010      21.765     137.776\n",
            "R              0.0161      0.965      0.017      0.987      -2.041       2.073\n",
            "Finish        -6.5117      1.777     -3.665      0.002     -10.298      -2.725\n",
            "RG           -36.4722    156.355     -0.233      0.819    -369.736     296.792\n",
            "RBI            0.2495      0.197      1.265      0.225      -0.171       0.670\n",
            "==============================================================================\n",
            "Omnibus:                        1.564   Durbin-Watson:                   1.335\n",
            "Prob(Omnibus):                  0.458   Jarque-Bera (JB):                1.101\n",
            "Skew:                          -0.308   Prob(JB):                        0.577\n",
            "Kurtosis:                       2.030   Cond. No.                     1.28e+05\n",
            "==============================================================================\n",
            "\n",
            "Warnings:\n",
            "[1] Standard Errors assume that the covariance matrix of the errors is correctly specified.\n",
            "[2] The condition number is large, 1.28e+05. This might indicate that there are\n",
            "strong multicollinearity or other numerical problems.\n"
          ]
        },
        {
          "output_type": "stream",
          "name": "stderr",
          "text": [
            "/usr/local/lib/python3.7/dist-packages/statsmodels/tsa/tsatools.py:117: FutureWarning: In a future version of pandas all arguments of concat except for the argument 'objs' will be keyword-only\n",
            "  x = pd.concat(x[::order], 1)\n"
          ]
        }
      ]
    },
    {
      "cell_type": "code",
      "source": [
        "#iteration 3 \n",
        "x = df_2001[['E','H','RBI']]\n",
        "y = df_2001[['W']]\n",
        "x = sm.add_constant(x)\n",
        "\n",
        "model = sm.OLS(y, x).fit()\n",
        "model_summary = model.summary()\n",
        "print(model_summary)"
      ],
      "metadata": {
        "colab": {
          "base_uri": "https://localhost:8080/"
        },
        "id": "1V_ZbpFIW16W",
        "outputId": "5cf00382-ad90-41cc-9fa2-30d10f81e72a"
      },
      "execution_count": 40,
      "outputs": [
        {
          "output_type": "stream",
          "name": "stdout",
          "text": [
            "                            OLS Regression Results                            \n",
            "==============================================================================\n",
            "Dep. Variable:                      W   R-squared:                       0.873\n",
            "Model:                            OLS   Adj. R-squared:                  0.849\n",
            "Method:                 Least Squares   F-statistic:                     36.66\n",
            "Date:                Thu, 07 Apr 2022   Prob (F-statistic):           2.13e-07\n",
            "Time:                        14:09:38   Log-Likelihood:                -62.170\n",
            "No. Observations:                  20   AIC:                             132.3\n",
            "Df Residuals:                      16   BIC:                             136.3\n",
            "Df Model:                           3                                         \n",
            "Covariance Type:            nonrobust                                         \n",
            "==============================================================================\n",
            "                 coef    std err          t      P>|t|      [0.025      0.975]\n",
            "------------------------------------------------------------------------------\n",
            "const         48.8883     34.089      1.434      0.171     -23.377     121.154\n",
            "E             -0.2614      0.092     -2.854      0.011      -0.456      -0.067\n",
            "H             -0.0229      0.035     -0.656      0.521      -0.097       0.051\n",
            "RBI            0.1285      0.030      4.305      0.001       0.065       0.192\n",
            "==============================================================================\n",
            "Omnibus:                        1.201   Durbin-Watson:                   1.776\n",
            "Prob(Omnibus):                  0.548   Jarque-Bera (JB):                0.969\n",
            "Skew:                           0.499   Prob(JB):                        0.616\n",
            "Kurtosis:                       2.590   Cond. No.                     4.00e+04\n",
            "==============================================================================\n",
            "\n",
            "Warnings:\n",
            "[1] Standard Errors assume that the covariance matrix of the errors is correctly specified.\n",
            "[2] The condition number is large,  4e+04. This might indicate that there are\n",
            "strong multicollinearity or other numerical problems.\n"
          ]
        },
        {
          "output_type": "stream",
          "name": "stderr",
          "text": [
            "/usr/local/lib/python3.7/dist-packages/statsmodels/tsa/tsatools.py:117: FutureWarning: In a future version of pandas all arguments of concat except for the argument 'objs' will be keyword-only\n",
            "  x = pd.concat(x[::order], 1)\n"
          ]
        }
      ]
    },
    {
      "cell_type": "code",
      "source": [
        "#iteration 4\n",
        "x = df_2001[['RG','E','H','errors_hits']]\n",
        "y = df_2001[['W']]\n",
        "x = sm.add_constant(x)\n",
        "\n",
        "model = sm.OLS(y, x).fit()\n",
        "model_summary = model.summary()\n",
        "print(model_summary)"
      ],
      "metadata": {
        "colab": {
          "base_uri": "https://localhost:8080/"
        },
        "id": "bt8LKL4WW_jj",
        "outputId": "9c3a1b0a-df32-4382-e4c1-a3a1865d256b"
      },
      "execution_count": 42,
      "outputs": [
        {
          "output_type": "stream",
          "name": "stdout",
          "text": [
            "                            OLS Regression Results                            \n",
            "==============================================================================\n",
            "Dep. Variable:                      W   R-squared:                       0.908\n",
            "Model:                            OLS   Adj. R-squared:                  0.883\n",
            "Method:                 Least Squares   F-statistic:                     36.99\n",
            "Date:                Thu, 07 Apr 2022   Prob (F-statistic):           1.33e-07\n",
            "Time:                        14:10:05   Log-Likelihood:                -58.950\n",
            "No. Observations:                  20   AIC:                             127.9\n",
            "Df Residuals:                      15   BIC:                             132.9\n",
            "Df Model:                           4                                         \n",
            "Covariance Type:            nonrobust                                         \n",
            "===============================================================================\n",
            "                  coef    std err          t      P>|t|      [0.025      0.975]\n",
            "-------------------------------------------------------------------------------\n",
            "const         326.6713    138.588      2.357      0.032      31.279     622.064\n",
            "RG             21.7698      4.084      5.331      0.000      13.065      30.474\n",
            "E              -3.0250      1.324     -2.285      0.037      -5.846      -0.204\n",
            "H              -0.2246      0.103     -2.182      0.045      -0.444      -0.005\n",
            "errors_hits     0.0020      0.001      2.069      0.056   -5.87e-05       0.004\n",
            "==============================================================================\n",
            "Omnibus:                        4.429   Durbin-Watson:                   2.410\n",
            "Prob(Omnibus):                  0.109   Jarque-Bera (JB):                2.852\n",
            "Skew:                           0.918   Prob(JB):                        0.240\n",
            "Kurtosis:                       3.227   Cond. No.                     1.54e+07\n",
            "==============================================================================\n",
            "\n",
            "Warnings:\n",
            "[1] Standard Errors assume that the covariance matrix of the errors is correctly specified.\n",
            "[2] The condition number is large, 1.54e+07. This might indicate that there are\n",
            "strong multicollinearity or other numerical problems.\n"
          ]
        },
        {
          "output_type": "stream",
          "name": "stderr",
          "text": [
            "/usr/local/lib/python3.7/dist-packages/statsmodels/tsa/tsatools.py:117: FutureWarning: In a future version of pandas all arguments of concat except for the argument 'objs' will be keyword-only\n",
            "  x = pd.concat(x[::order], 1)\n"
          ]
        }
      ]
    },
    {
      "cell_type": "code",
      "source": [
        "#iteration 4\n",
        "x = df_2001[['RG','R','E','runs_errors']]\n",
        "y = df_2001[['W']]\n",
        "x = sm.add_constant(x)\n",
        "\n",
        "model = sm.OLS(y, x).fit()\n",
        "model_summary = model.summary()\n",
        "print(model_summary)"
      ],
      "metadata": {
        "colab": {
          "base_uri": "https://localhost:8080/"
        },
        "id": "KZ7-hGUuXEU1",
        "outputId": "c994ef33-6480-4192-c3fc-6140b79d7e4b"
      },
      "execution_count": 43,
      "outputs": [
        {
          "output_type": "stream",
          "name": "stdout",
          "text": [
            "                            OLS Regression Results                            \n",
            "==============================================================================\n",
            "Dep. Variable:                      W   R-squared:                       0.922\n",
            "Model:                            OLS   Adj. R-squared:                  0.901\n",
            "Method:                 Least Squares   F-statistic:                     44.37\n",
            "Date:                Thu, 07 Apr 2022   Prob (F-statistic):           3.86e-08\n",
            "Time:                        14:10:35   Log-Likelihood:                -57.286\n",
            "No. Observations:                  20   AIC:                             124.6\n",
            "Df Residuals:                      15   BIC:                             129.6\n",
            "Df Model:                           4                                         \n",
            "Covariance Type:            nonrobust                                         \n",
            "===============================================================================\n",
            "                  coef    std err          t      P>|t|      [0.025      0.975]\n",
            "-------------------------------------------------------------------------------\n",
            "const         106.5812     45.973      2.318      0.035       8.592     204.570\n",
            "RG           -262.9143    128.598     -2.044      0.059    -537.014      11.186\n",
            "R               1.6300      0.800      2.037      0.060      -0.076       3.336\n",
            "E              -1.1024      0.459     -2.403      0.030      -2.080      -0.125\n",
            "runs_errors     0.0011      0.001      1.720      0.106      -0.000       0.002\n",
            "==============================================================================\n",
            "Omnibus:                        1.346   Durbin-Watson:                   2.517\n",
            "Prob(Omnibus):                  0.510   Jarque-Bera (JB):                0.988\n",
            "Skew:                           0.522   Prob(JB):                        0.610\n",
            "Kurtosis:                       2.690   Cond. No.                     7.95e+06\n",
            "==============================================================================\n",
            "\n",
            "Warnings:\n",
            "[1] Standard Errors assume that the covariance matrix of the errors is correctly specified.\n",
            "[2] The condition number is large, 7.95e+06. This might indicate that there are\n",
            "strong multicollinearity or other numerical problems.\n"
          ]
        },
        {
          "output_type": "stream",
          "name": "stderr",
          "text": [
            "/usr/local/lib/python3.7/dist-packages/statsmodels/tsa/tsatools.py:117: FutureWarning: In a future version of pandas all arguments of concat except for the argument 'objs' will be keyword-only\n",
            "  x = pd.concat(x[::order], 1)\n"
          ]
        }
      ]
    },
    {
      "cell_type": "code",
      "source": [
        "#iteration 6 model of best fit\n",
        "x = df_2001[['R','RBI','E','error_sq']]\n",
        "y = df_2001[['W']]\n",
        "x = sm.add_constant(x)\n",
        "\n",
        "model = sm.OLS(y, x).fit()\n",
        "model_summary = model.summary()\n",
        "print(model_summary)"
      ],
      "metadata": {
        "colab": {
          "base_uri": "https://localhost:8080/"
        },
        "id": "ImFJJDPqXNks",
        "outputId": "49731a50-7ca3-443a-8557-1f5c77e3ca0d"
      },
      "execution_count": 46,
      "outputs": [
        {
          "output_type": "stream",
          "name": "stdout",
          "text": [
            "                            OLS Regression Results                            \n",
            "==============================================================================\n",
            "Dep. Variable:                      W   R-squared:                       0.928\n",
            "Model:                            OLS   Adj. R-squared:                  0.909\n",
            "Method:                 Least Squares   F-statistic:                     48.20\n",
            "Date:                Thu, 07 Apr 2022   Prob (F-statistic):           2.18e-08\n",
            "Time:                        14:11:11   Log-Likelihood:                -56.519\n",
            "No. Observations:                  20   AIC:                             123.0\n",
            "Df Residuals:                      15   BIC:                             128.0\n",
            "Df Model:                           4                                         \n",
            "Covariance Type:            nonrobust                                         \n",
            "==============================================================================\n",
            "                 coef    std err          t      P>|t|      [0.025      0.975]\n",
            "------------------------------------------------------------------------------\n",
            "const        -28.8355     30.374     -0.949      0.357     -93.576      35.905\n",
            "R              0.5734      0.206      2.779      0.014       0.134       1.013\n",
            "RBI           -0.4798      0.211     -2.269      0.038      -0.931      -0.029\n",
            "E              1.0377      0.662      1.566      0.138      -0.374       2.450\n",
            "error_sq      -0.0080      0.004     -2.217      0.042      -0.016      -0.000\n",
            "==============================================================================\n",
            "Omnibus:                        1.531   Durbin-Watson:                   2.266\n",
            "Prob(Omnibus):                  0.465   Jarque-Bera (JB):                1.327\n",
            "Skew:                           0.547   Prob(JB):                        0.515\n",
            "Kurtosis:                       2.372   Cond. No.                     2.71e+05\n",
            "==============================================================================\n",
            "\n",
            "Warnings:\n",
            "[1] Standard Errors assume that the covariance matrix of the errors is correctly specified.\n",
            "[2] The condition number is large, 2.71e+05. This might indicate that there are\n",
            "strong multicollinearity or other numerical problems.\n"
          ]
        },
        {
          "output_type": "stream",
          "name": "stderr",
          "text": [
            "/usr/local/lib/python3.7/dist-packages/statsmodels/tsa/tsatools.py:117: FutureWarning: In a future version of pandas all arguments of concat except for the argument 'objs' will be keyword-only\n",
            "  x = pd.concat(x[::order], 1)\n"
          ]
        }
      ]
    },
    {
      "cell_type": "code",
      "source": [
        ""
      ],
      "metadata": {
        "id": "GYUzQc7sXSZg"
      },
      "execution_count": null,
      "outputs": []
    }
  ]
}